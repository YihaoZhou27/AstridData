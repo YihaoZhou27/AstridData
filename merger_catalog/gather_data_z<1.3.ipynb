{
 "cells": [
  {
   "cell_type": "code",
   "execution_count": 1,
   "id": "562c4321-fa40-473a-9b04-7b5b156622ea",
   "metadata": {},
   "outputs": [
    {
     "name": "stderr",
     "output_type": "stream",
     "text": [
      "/home1/08942/nianyic/anaconda3/lib/python3.9/site-packages/scipy/stats/_ksstats.py:74: RuntimeWarning: invalid value encountered in ldexp\n",
      "  _EP128 = np.ldexp(np.longdouble(1), _E128)\n"
     ]
    }
   ],
   "source": [
    "import numpy as np\n",
    "import matplotlib\n",
    "import matplotlib.pyplot as plt\n",
    "\n",
    "from bigfile import BigFile\n",
    "import glob,os,struct\n",
    "# from astropy.cosmology import FlatLambdaCDM\n",
    "import astropy.units as u\n",
    "from scipy.interpolate import interp1d\n",
    "from colossus.cosmology import cosmology\n",
    "import seaborn as sns\n",
    "\n",
    "sns.set()\n",
    "sns.set_palette(\"Set2\")\n",
    "sns.set_style('ticks',{'ytick.direction':'in','xtick.direction':'in'})\n",
    "\n",
    "cmap = plt.get_cmap(\"Set2\")\n",
    "sns.set_context(\"paper\", font_scale=1.7,rc={\"axes.linewidth\": 1.3,\"lines.linewidth\": 2.5,\"patch.linewidth\": 2.2})\n",
    "from matplotlib import rcParams as rc\n",
    "import pickle\n",
    "import warnings"
   ]
  },
  {
   "cell_type": "code",
   "execution_count": 2,
   "id": "adddd8d2-6516-4bbb-8126-6417beb575fe",
   "metadata": {},
   "outputs": [
    {
     "name": "stdout",
     "output_type": "stream",
     "text": [
      "46447\n",
      "[('zmerge', '<f8'), ('id1', '<i8'), ('id2', '<i8'), ('m1', '<f8'), ('m2', '<f8'), ('m4tot', '<f8'), ('mhtot', '<f8'), ('sigma', '<f8'), ('rho', '<f8'), ('gamma', '<f8'), ('zsnap', '<f8'), ('snap_num', '<i4')]\n"
     ]
    }
   ],
   "source": [
    "root = \"/home1/08942/nianyic/work/Astrid/mergers/wgalaxy_info/after\"\n",
    "file = \"/after-merger-gal-S225.npy\"\n",
    "\n",
    "merger = np.load(root + file)\n",
    "print(len(merger))\n",
    "print(merger.dtype)"
   ]
  },
  {
   "cell_type": "code",
   "execution_count": 3,
   "id": "e9378eea-2910-42f3-8b6b-54baf62109c8",
   "metadata": {},
   "outputs": [],
   "source": [
    "all_mergers = []\n",
    "for ff in sorted(glob.glob(root + \"/*.npy\")):\n",
    "    merger = np.load(ff)\n",
    "    all_mergers.append(merger)\n",
    "    \n",
    "all_mergers = np.concatenate(all_mergers)\n",
    "    "
   ]
  },
  {
   "cell_type": "code",
   "execution_count": 6,
   "id": "10160a67-8026-40e1-a966-a37de2b9b129",
   "metadata": {},
   "outputs": [
    {
     "name": "stdout",
     "output_type": "stream",
     "text": [
      "1775786\n",
      "5906\n"
     ]
    }
   ],
   "source": [
    "print(len(all_mergers))\n",
    "mask = all_mergers[\"m4tot\"] < 0\n",
    "print(sum(mask))"
   ]
  },
  {
   "cell_type": "code",
   "execution_count": 7,
   "id": "9c910191-2fe2-4b04-8c28-80ce8e60cebd",
   "metadata": {},
   "outputs": [
    {
     "name": "stdout",
     "output_type": "stream",
     "text": [
      "633913\n"
     ]
    }
   ],
   "source": [
    "print(len(all_mergers))"
   ]
  },
  {
   "cell_type": "code",
   "execution_count": 7,
   "id": "18edb9e2-697c-4c1a-92cd-dd370939e7d9",
   "metadata": {},
   "outputs": [],
   "source": [
    "np.save(root + \"/post_merger_catalog_z<3.npy\", all_mergers)"
   ]
  },
  {
   "cell_type": "markdown",
   "id": "31581b3f-efe2-49e0-b020-dce2de515a42",
   "metadata": {},
   "source": [
    "## sanity check plots"
   ]
  },
  {
   "cell_type": "code",
   "execution_count": null,
   "id": "2097d3e3-0664-4fe8-9462-cabdfb8bd8ba",
   "metadata": {},
   "outputs": [],
   "source": [
    "mergers = np.load(root + \"/post_merger_catalog_z<3.npy\")\n"
   ]
  }
 ],
 "metadata": {
  "kernelspec": {
   "display_name": "default",
   "language": "python",
   "name": "default"
  },
  "language_info": {
   "codemirror_mode": {
    "name": "ipython",
    "version": 3
   },
   "file_extension": ".py",
   "mimetype": "text/x-python",
   "name": "python",
   "nbconvert_exporter": "python",
   "pygments_lexer": "ipython3",
   "version": "3.9.12"
  }
 },
 "nbformat": 4,
 "nbformat_minor": 5
}
