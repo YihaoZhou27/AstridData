{
 "cells": [
  {
   "cell_type": "code",
   "execution_count": 1,
   "id": "0375df46-3c74-4da4-b253-874f53f6790f",
   "metadata": {},
   "outputs": [],
   "source": [
    "import numpy as np\n",
    "import matplotlib\n",
    "import matplotlib.pyplot as plt\n",
    "from bigfile import BigFile\n",
    "import glob,os,struct\n",
    "from scipy.interpolate import interp1d\n",
    "from colossus.cosmology import cosmology\n",
    "import seaborn as sns\n",
    "\n",
    "sns.set()\n",
    "sns.set_palette(\"Set2\")\n",
    "sns.set_style('ticks',{'ytick.direction':'in','xtick.direction':'in'})\n",
    "\n",
    "cmap = plt.get_cmap(\"Set2\")\n",
    "sns.set_context(\"paper\", font_scale=1.7,rc={\"axes.linewidth\": 1.3,\"lines.linewidth\": 2.5,\"patch.linewidth\": 2.2})\n",
    "from matplotlib import rcParams as rc\n"
   ]
  },
  {
   "cell_type": "code",
   "execution_count": 2,
   "id": "2d99b890",
   "metadata": {},
   "outputs": [
    {
     "name": "stdout",
     "output_type": "stream",
     "text": [
      "merger data fields: ('z', 'ID1', 'ID2', 'm1', 'm2', 'mdot1', 'mdot2', 'pos1', 'pos2', 'v1', 'v2')\n",
      "merger shape: (688213,)\n"
     ]
    }
   ],
   "source": [
    "merger_root = \"/hildafs/datasets/Asterix/BH-mergers\"\n",
    "merger_files = glob.glob(merger_root + \"/bh-merger-extended*.npy\")\n",
    "merger_files.sort()\n",
    "\n",
    "mergers = []\n",
    "for file in merger_files:\n",
    "    mergers.append(np.load(file))\n",
    "mergers = np.concatenate(mergers)\n",
    "\n",
    "print(\"merger data fields:\", mergers.dtype.names)\n",
    "print(\"merger shape:\", mergers.shape)\n"
   ]
  },
  {
   "cell_type": "code",
   "execution_count": 3,
   "id": "3d5ec476",
   "metadata": {},
   "outputs": [],
   "source": [
    "def load_astrid_cosmo():\n",
    "    pig = BigFile('/hildafs/datasets/Asterix/PIG_files/PIG_214')\n",
    "    battr = pig[\"Header\"].attrs\n",
    "    Lbox = battr['BoxSize']\n",
    "    hh = battr['HubbleParam']\n",
    "    om0 = battr['Omega0']\n",
    "    omb = battr['OmegaBaryon']\n",
    "    oml = battr['OmegaLambda']\n",
    "    Nfof = battr['NumFOFGroupsTotal']\n",
    "    sigma8 = 0.82\n",
    "\n",
    "    # set-up cosmology\n",
    "    params = {'flat': True, 'H0': 100*hh, 'Om0': om0, 'Ob0': omb, 'sigma8': sigma8, 'ns': 0.96}\n",
    "    cosmo = cosmology.setCosmology('myCosmo', params)\n",
    "    MassTable = battr[\"MassTable\"]\n",
    "    \n",
    "    return Lbox, MassTable, cosmo\n",
    "\n",
    "snaps = np.loadtxt('/hildafs/datasets/Asterix/PIG2/Snapshots.txt')\n",
    "snap2z = {s[0]:1./s[1]-1 for s in snaps}\n",
    "snap2z[147]\n",
    "\n",
    "# some constants and unit conversions\n",
    "msun_mks = 1.989e30\n",
    "pc_mks = 3.086e16\n",
    "grav_mks = 6.67e-11\n",
    "km_mks = 1e3\n",
    "yr_mks = 3.154e+7\n",
    "c_mks = 3e8\n",
    "\n",
    "Mpc_to_m = 3.086e+22\n",
    "m_to_Mpc = 1./Mpc_to_m\n",
    "s_to_year = 3.17098e-8\n",
    "c_Mpc_yr = c_mks*m_to_Mpc/s_to_year\n",
    "fac = 121.14740013761634  # GADGET unit Protonmass / Bolztman const\n",
    "GAMMA = 5 / 3.\n",
    "Xh=0.76\n",
    "hh = h = 0.6774\n",
    "\n",
    "Lbox, MassTable, cosmo = load_astrid_cosmo()\n",
    "# conversion between time and redshift\n",
    "z_arr = np.linspace(0,20,1000)\n",
    "time = cosmo.age(z_arr) # Gyr\n",
    "def z_to_t(x):\n",
    "    return interp1d(z_arr, time,fill_value='extrapolate')(x)\n",
    "def t_to_z(x):\n",
    "    return interp1d(time, z_arr,fill_value='extrapolate')(x) "
   ]
  },
  {
   "cell_type": "code",
   "execution_count": 4,
   "id": "d3981121",
   "metadata": {},
   "outputs": [
    {
     "data": {
      "text/plain": [
       "[<matplotlib.lines.Line2D at 0x7f342a0919d0>]"
      ]
     },
     "execution_count": 4,
     "metadata": {},
     "output_type": "execute_result"
    },
    {
     "data": {
      "image/png": "[encoded data removed]",
      "text/plain": [
       "<Figure size 432x288 with 1 Axes>"
      ]
     },
     "metadata": {
      "needs_background": "light"
     },
     "output_type": "display_data"
    }
   ],
   "source": [
    "vsim = 250**3\n",
    "zbin = np.linspace(1.36,6,20)\n",
    "dz = zbin[1:] - zbin[:-1]\n",
    "zc = 0.5*(zbin[1:]+zbin[:-1])\n",
    "rc = np.array([cosmo.comovingDistance(0.,zz) for zz in zc])\n",
    "\n",
    "n0,e0 = np.histogram(np.concatenate([mergers['z']]),bins=zbin)\n",
    "\n",
    "rate0 = n0/dz/vsim*4*np.pi*rc**2*c_Mpc_yr\n",
    "\n",
    "plt.plot(zc, rate0)\n",
    "# plt.yscale('log')\n"
   ]
  },
  {
   "cell_type": "code",
   "execution_count": null,
   "id": "42af4256",
   "metadata": {},
   "outputs": [],
   "source": []
  },
  {
   "cell_type": "code",
   "execution_count": 2,
   "id": "a1ad0e8e-6573-4698-b277-ba1318103a9f",
   "metadata": {},
   "outputs": [
    {
     "data": {
      "text/plain": [
       "'/hildafs/projects/phy200018p/nianyic/conda/default/lib/python3.8/site-packages/matplotlib/mpl-data/matplotlibrc'"
      ]
     },
     "execution_count": 2,
     "metadata": {},
     "output_type": "execute_result"
    }
   ],
   "source": [
    "import matplotlib\n",
    "matplotlib.matplotlib_fname()"
   ]
  },
  {
   "cell_type": "code",
   "execution_count": 10,
   "id": "3379d738-806c-4702-8f5a-0960f48c2eb6",
   "metadata": {},
   "outputs": [],
   "source": [
    "root = \"/hildafs/home/nianyic/scratch1/Astrid_data/lisa_mbhcat\"\n",
    "file1 = root + \"/Astrid_z3_binary_recoil_cat.npy\"\n",
    "file2 = root + \"/post_merger_below3.npy\""
   ]
  },
  {
   "cell_type": "code",
   "execution_count": 11,
   "id": "a88d7d48-7726-4d2b-b64f-71209ef2b8f7",
   "metadata": {},
   "outputs": [
    {
     "name": "stdout",
     "output_type": "stream",
     "text": [
      "[('id1', '<i8'), ('id2', '<i8'), ('id3', '<i8'), ('zmerge', '<f8'), ('mass1', '<f8'), ('mass2', '<f8'), ('sigma1', '<f8'), ('sigma2', '<f8'), ('sigma_rem', '<f8'), ('rho_1kpc', '<f8'), ('gamma', '<f8'), ('mstot', '<f8'), ('rhalf', '<f8'), ('mass3', '<f8'), ('znext', '<f8')]\n",
      "[('zmerge', '<f8'), ('id1', '<i8'), ('id2', '<i8'), ('m1', '<f8'), ('m2', '<f8'), ('m4tot', '<f8'), ('mhtot', '<f8'), ('sigma', '<f8'), ('rho', '<f8'), ('gamma', '<f8'), ('zsnap', '<f8'), ('snap_num', '<i4')]\n",
      "441077\n",
      "1775786\n"
     ]
    }
   ],
   "source": [
    "data1 = np.load(file1)\n",
    "data2 = np.load(file2)\n",
    "\n",
    "print(data1.dtype)\n",
    "print(data2.dtype)\n",
    "print(len(data1))\n",
    "print(len(data2))"
   ]
  },
  {
   "cell_type": "markdown",
   "id": "31627940-1cf1-4af4-8ef8-013b6ebeb937",
   "metadata": {},
   "source": [
    "### append zsnap for z>3 catalog"
   ]
  },
  {
   "cell_type": "code",
   "execution_count": 46,
   "id": "26720e0f-0113-478a-8875-450ee5299d08",
   "metadata": {},
   "outputs": [
    {
     "name": "stdout",
     "output_type": "stream",
     "text": [
      "[ 17  18  20  21  22  23  25  27  29  31  33  35  36  39  41  43  47  49\n",
      "  51  55  58  62  66  73  84 107 113 118 122 125 126 128 130 131 133 134\n",
      " 136 137 139 142 144 147 149 151 153 155 158 161 163 166 170 174 177 181\n",
      " 184 187 190 194 198 202 207 214]\n"
     ]
    }
   ],
   "source": [
    "snap_root = \"/hildafs/datasets/Asterix/BH_details/postprocess/binary_galaxy/z4\"\n",
    "fflist = sorted(glob.glob(snap_root + \"/binary_merged*.pkl\"))\n",
    "snaplist = [int(ff.split(\"/\")[-1].split(\"_\")[2]) for ff in fflist]\n",
    "snaplist = np.unique(snaplist)\n",
    "print(snaplist)\n"
   ]
  },
  {
   "cell_type": "code",
   "execution_count": 47,
   "id": "04a129a2-d665-44a3-9619-f89fb3d841d2",
   "metadata": {},
   "outputs": [
    {
     "name": "stdout",
     "output_type": "stream",
     "text": [
      "[9.99999890000011, 9.519373003291513, 9.0, 8.740038375751201, 8.301287298162066, 8.000009000009, 7.852142661131127, 7.579493295125991, 7.223887102477857, 7.0, 6.827298486200472, 6.73413149570369, 6.639652854174305, 6.500018750046875, 6.373924328788537, 6.250001812500453, 6.000007000007, 5.889519662689118, 5.8039245036537075, 5.686637423772334, 5.600442229629385, 5.500006500006499, 5.4070528838145036, 5.2889126470033325, 5.195902030397095, 4.999988000024, 4.906953665855445, 4.801036065041216, 4.70226208737006, 4.608021714260078, 4.56049822064057, 4.5000055000055, 4.452235689244375, 4.412749189440809, 4.330746144537851, 4.28518878694347, 4.25000525000525, 4.218090074670869, 4.162675918181912, 4.105635600575916, 4.056608734785929, 4.0, 3.952137590190806, 3.9000872215525435, 3.8439520836259895, 3.8078078799971147, 3.750007125010688, 3.699999060000188, 3.657878801993572, 3.5966233205087548, 3.5407074422194977, 3.5000045000044997, 3.456010266647654, 3.395237320839139, 3.3532392453224444, 3.298080477258856, 3.2500021250010622, 3.2000042000041997, 3.1488783507378777, 3.100242734369875, 3.048714128392823, 3.0]\n"
     ]
    }
   ],
   "source": [
    "# from snapshot number to redshift\n",
    "snaps = np.loadtxt('/hildafs/datasets/Asterix/PIG2/Snapshots.txt')\n",
    "snap2z = {s[0]:1./s[1]-1 for s in snaps}\n",
    "\n",
    "zlist = [snap2z[s] for s in snaplist]\n",
    "print(zlist)"
   ]
  },
  {
   "cell_type": "code",
   "execution_count": 59,
   "id": "970438ad-279d-4887-8816-98909d02c536",
   "metadata": {},
   "outputs": [
    {
     "data": {
      "text/plain": [
       "(array([0., 0., 0., 0., 0., 0., 0., 0., 0., 0.]),\n",
       " array([0. , 0.1, 0.2, 0.3, 0.4, 0.5, 0.6, 0.7, 0.8, 0.9, 1. ]),\n",
       " <BarContainer object of 10 artists>)"
      ]
     },
     "execution_count": 59,
     "metadata": {},
     "output_type": "execute_result"
    },
    {
     "data": {
      "image/png": "[encoded data removed]",
      "text/plain": [
       "<Figure size 432x288 with 1 Axes>"
      ]
     },
     "metadata": {
      "needs_background": "light"
     },
     "output_type": "display_data"
    }
   ],
   "source": [
    "\n",
    "mask = zsnap == 0\n",
    "dd = data1[mask]\n",
    "plt.hist(dd[\"zmerge\"])"
   ]
  },
  {
   "cell_type": "code",
   "execution_count": 61,
   "id": "db60e4da-86f7-40dd-b35c-71c2bfe5e99d",
   "metadata": {},
   "outputs": [
    {
     "data": {
      "text/plain": [
       "3.0"
      ]
     },
     "execution_count": 61,
     "metadata": {},
     "output_type": "execute_result"
    }
   ],
   "source": [
    "min(zsnap)"
   ]
  },
  {
   "cell_type": "code",
   "execution_count": 58,
   "id": "b00e6e2d-e0ab-47db-98b8-b228f2c564cc",
   "metadata": {},
   "outputs": [
    {
     "name": "stdout",
     "output_type": "stream",
     "text": [
      "0\n",
      "4\n",
      "23\n",
      "18\n",
      "74\n",
      "96\n",
      "90\n",
      "212\n",
      "474\n",
      "466\n",
      "506\n",
      "357\n",
      "398\n",
      "718\n",
      "805\n",
      "1040\n",
      "2634\n",
      "1425\n",
      "1297\n",
      "2060\n",
      "1752\n",
      "2292\n",
      "2451\n",
      "3666\n",
      "3365\n",
      "8731\n",
      "4861\n",
      "6652\n",
      "6767\n",
      "7058\n",
      "4051\n",
      "5261\n",
      "4290\n",
      "3909\n",
      "8523\n",
      "4837\n",
      "4332\n",
      "3362\n",
      "7427\n",
      "7789\n",
      "6950\n",
      "9557\n",
      "8228\n",
      "9662\n",
      "11469\n",
      "7143\n",
      "11792\n",
      "11063\n",
      "14484\n",
      "19252\n",
      "14811\n",
      "11243\n",
      "12271\n",
      "18389\n",
      "13157\n",
      "18681\n",
      "17012\n",
      "18203\n",
      "31135\n",
      "19837\n",
      "21514\n",
      "21151\n"
     ]
    }
   ],
   "source": [
    "zsnap = np.zeros(len(data1))\n",
    "for i,zz in enumerate(zlist):\n",
    "    mask  = data1[\"zmerge\"] >= zz\n",
    "    if i != 0:\n",
    "        mask &= data1[\"zmerge\"] < zlist[i-1]\n",
    "    zsnap[mask] = zz\n",
    "    print(len(data1[mask]))"
   ]
  },
  {
   "cell_type": "code",
   "execution_count": 62,
   "id": "de7f0a0f-b964-4b67-8ca0-6398f126d6b8",
   "metadata": {},
   "outputs": [],
   "source": [
    "data1[\"znext\"] = zsnap"
   ]
  },
  {
   "cell_type": "code",
   "execution_count": 71,
   "id": "7006040c-3618-4db1-9dc2-f58ca4e09c86",
   "metadata": {},
   "outputs": [
    {
     "data": {
      "image/png": "[encoded data removed]",
      "text/plain": [
       "<Figure size 432x288 with 1 Axes>"
      ]
     },
     "metadata": {
      "needs_background": "light"
     },
     "output_type": "display_data"
    }
   ],
   "source": [
    "plt.hist((z_to_t(data1[\"znext\"]) - z_to_t(data1[\"zmerge\"]))*1e3, bins=30)\n",
    "plt.yscale(\"log\")"
   ]
  },
  {
   "cell_type": "markdown",
   "id": "2b8c56f4-9880-45f3-9f23-c225dea4959c",
   "metadata": {},
   "source": [
    "### concatenate data and remove duplicates"
   ]
  },
  {
   "cell_type": "code",
   "execution_count": 72,
   "id": "86889ac6-7bad-4e65-a03b-743337a44c75",
   "metadata": {},
   "outputs": [
    {
     "name": "stdout",
     "output_type": "stream",
     "text": [
      "2216863\n",
      "[('id1', '<i8'), ('id2', '<i8'), ('zmerge', '<f8'), ('m1', '<f8'), ('m2', '<f8'), ('mstot', '<f8'), ('zsnap', '<f8')]\n"
     ]
    }
   ],
   "source": [
    "data1_short = [(d[\"id1\"], d[\"id2\"], d[\"zmerge\"], d[\"mass1\"], d[\"mass2\"], d[\"mstot\"], d[\"znext\"]) for d in data1]\n",
    "data2_short = [(d[\"id1\"], d[\"id2\"], d[\"zmerge\"], d[\"m1\"], d[\"m2\"], d[\"m4tot\"], d[\"zsnap\"]) for d in data2]\n",
    "\n",
    "\n",
    "\n",
    "names = [\"id1\", \"id2\", \"zmerge\", \"m1\", \"m2\", \"mstot\", \"zsnap\"]\n",
    "types = [\"q\", \"q\", \"d\", \"d\", \"d\", \"d\", \"d\"]\n",
    "dtype = np.dtype(list(zip(names, types)))\n",
    "\n",
    "data1_short = np.array(data1_short, dtype = dtype)\n",
    "data2_short = np.array(data2_short, dtype = dtype)\n",
    "\n",
    "data_short = np.concatenate([data1_short, data2_short])\n",
    "print(len(data_short))\n",
    "print(data_short.dtype)\n"
   ]
  },
  {
   "cell_type": "code",
   "execution_count": 73,
   "id": "0690d5bd-4d57-4a6d-9d8d-ca97a8785ab2",
   "metadata": {},
   "outputs": [],
   "source": [
    "swbh = np.minimum(data_short[\"id1\"], data_short[\"id2\"])\n",
    "\n",
    "uid, uidx = np.unique(swbh, return_index=True)\n",
    "data_unique = data_short[uidx]"
   ]
  },
  {
   "cell_type": "code",
   "execution_count": 74,
   "id": "75c67e22-4e7f-466b-b336-c2a5fb1ff76e",
   "metadata": {},
   "outputs": [
    {
     "data": {
      "image/png": "[encoded data removed]",
      "text/plain": [
       "<Figure size 432x288 with 1 Axes>"
      ]
     },
     "metadata": {
      "needs_background": "light"
     },
     "output_type": "display_data"
    }
   ],
   "source": [
    "bins = np.linspace(1.3,8,40)\n",
    "\n",
    "plt.hist(data_unique[\"zmerge\"], bins = bins)\n",
    "plt.hist(data_unique[\"zsnap\"], bins=bins)\n",
    "plt.yscale('log')\n",
    "plt.show()"
   ]
  },
  {
   "cell_type": "code",
   "execution_count": 76,
   "id": "d21204b4-ce69-4f58-bc63-74fbba32c271",
   "metadata": {},
   "outputs": [
    {
     "data": {
      "image/png": "[encoded data removed]",
      "text/plain": [
       "<Figure size 432x288 with 1 Axes>"
      ]
     },
     "metadata": {
      "needs_background": "light"
     },
     "output_type": "display_data"
    }
   ],
   "source": [
    "plt.hist((z_to_t(data_unique[\"zsnap\"]) - z_to_t(data_unique[\"zmerge\"]))*1e3, bins=30)\n",
    "plt.yscale(\"log\")"
   ]
  },
  {
   "cell_type": "code",
   "execution_count": 79,
   "id": "c2054cfe-aef1-40ce-b5e7-ab2894d2273c",
   "metadata": {},
   "outputs": [
    {
     "data": {
      "text/plain": [
       "(array([38180., 14694.,     0.,     0.,   678.,  2031.,  1988.,  1767.,\n",
       "         1743.,  1595.]),\n",
       " array([2.80738399, 2.87664604, 2.94590809, 3.01517014, 3.0844322 ,\n",
       "        3.15369425, 3.2229563 , 3.29221835, 3.3614804 , 3.43074245,\n",
       "        3.5000045 ]),\n",
       " <BarContainer object of 10 artists>)"
      ]
     },
     "execution_count": 79,
     "metadata": {},
     "output_type": "execute_result"
    },
    {
     "data": {
      "image/png": "[encoded data removed]",
      "text/plain": [
       "<Figure size 432x288 with 1 Axes>"
      ]
     },
     "metadata": {
      "needs_background": "light"
     },
     "output_type": "display_data"
    }
   ],
   "source": [
    "mask = (z_to_t(data_unique[\"zsnap\"]) - z_to_t(data_unique[\"zmerge\"]))*1e3 > 100\n",
    "plt.hist(data_unique[\"zmerge\"][mask])"
   ]
  },
  {
   "cell_type": "code",
   "execution_count": 81,
   "id": "14cace0b-da21-47b5-9c71-7a0a7418ab28",
   "metadata": {},
   "outputs": [],
   "source": [
    "# root = \"/hildafs/home/nianyic/scratch1/Astrid_data/lisa_mbhcat\"\n",
    "# np.save(root + \"/lisa_mcat_v1.0_z1.3.npy\", data_unique)"
   ]
  },
  {
   "cell_type": "markdown",
   "id": "b062f9f3-34d0-4dff-a041-ac4381659634",
   "metadata": {},
   "source": [
    "### sanity checks"
   ]
  },
  {
   "cell_type": "code",
   "execution_count": 82,
   "id": "3787ac68-5c61-4c0f-b016-b5d6c51748fa",
   "metadata": {},
   "outputs": [],
   "source": [
    "root = \"/hildafs/home/nianyic/scratch1/Astrid_data/lisa_mbhcat\"\n",
    "\n",
    "data_unique = np.load(root + \"/lisa_mcat_v1.0_z1.3.npy\")"
   ]
  },
  {
   "cell_type": "code",
   "execution_count": 83,
   "id": "fb0a3a7b-21c9-4177-895e-640422693ea3",
   "metadata": {},
   "outputs": [],
   "source": [
    "def load_astrid_cosmo():\n",
    "    pig = BigFile('/hildafs/datasets/Asterix/PIG_files/PIG_214')\n",
    "    battr = pig[\"Header\"].attrs\n",
    "    Lbox = battr['BoxSize']\n",
    "    hh = battr['HubbleParam']\n",
    "    om0 = battr['Omega0']\n",
    "    omb = battr['OmegaBaryon']\n",
    "    oml = battr['OmegaLambda']\n",
    "    Nfof = battr['NumFOFGroupsTotal']\n",
    "    sigma8 = 0.82\n",
    "\n",
    "    # set-up cosmology\n",
    "    params = {'flat': True, 'H0': 100*hh, 'Om0': om0, 'Ob0': omb, 'sigma8': sigma8, 'ns': 0.96}\n",
    "    cosmo = cosmology.setCosmology('myCosmo', params)\n",
    "    MassTable = battr[\"MassTable\"]\n",
    "    \n",
    "    return Lbox, MassTable, cosmo\n",
    "\n",
    "snaps = np.loadtxt('/hildafs/datasets/Asterix/PIG2/Snapshots.txt')\n",
    "snap2z = {s[0]:1./s[1]-1 for s in snaps}\n",
    "snap2z[147]\n",
    "\n",
    "# some constants and unit conversions\n",
    "msun_mks = 1.989e30\n",
    "pc_mks = 3.086e16\n",
    "grav_mks = 6.67e-11\n",
    "km_mks = 1e3\n",
    "yr_mks = 3.154e+7\n",
    "c_mks = 3e8\n",
    "\n",
    "Mpc_to_m = 3.086e+22\n",
    "m_to_Mpc = 1./Mpc_to_m\n",
    "s_to_year = 3.17098e-8\n",
    "c_Mpc_yr = c_mks*m_to_Mpc/s_to_year\n",
    "fac = 121.14740013761634  # GADGET unit Protonmass / Bolztman const\n",
    "GAMMA = 5 / 3.\n",
    "Xh=0.76\n",
    "hh = h = 0.6774\n",
    "\n",
    "Lbox, MassTable, cosmo = load_astrid_cosmo()\n",
    "# conversion between time and redshift\n",
    "z_arr = np.linspace(0,20,1000)\n",
    "time = cosmo.age(z_arr) # Gyr\n",
    "def z_to_t(x):\n",
    "    return interp1d(z_arr, time,fill_value='extrapolate')(x)\n",
    "def t_to_z(x):\n",
    "    return interp1d(time, z_arr,fill_value='extrapolate')(x) "
   ]
  },
  {
   "cell_type": "code",
   "execution_count": 85,
   "id": "3790c8ef-934c-4794-9e53-cea9ec6442f4",
   "metadata": {},
   "outputs": [
    {
     "data": {
      "text/plain": [
       "1.3161556147823728"
      ]
     },
     "execution_count": 85,
     "metadata": {},
     "output_type": "execute_result"
    }
   ],
   "source": [
    "min(data_unique[\"zmerge\"])"
   ]
  },
  {
   "cell_type": "code",
   "execution_count": 51,
   "id": "9f65774c-ff04-45a4-873f-2cc24b4fce3a",
   "metadata": {},
   "outputs": [
    {
     "name": "stdout",
     "output_type": "stream",
     "text": [
      "total mergers: 1880977\n"
     ]
    },
    {
     "data": {
      "text/plain": [
       "dtype([('z', '<f8'), ('ID1', '<i8'), ('ID2', '<i8'), ('m1', '<f8'), ('m2', '<f8')])"
      ]
     },
     "execution_count": 51,
     "metadata": {},
     "output_type": "execute_result"
    }
   ],
   "source": []
  },
  {
   "cell_type": "code",
   "execution_count": 88,
   "id": "1b6ec758-6d9f-49f1-b284-4c4422f89bb8",
   "metadata": {},
   "outputs": [],
   "source": [
    "vsim = 250**3\n",
    "zbin = np.linspace(1.316,6,40)\n",
    "dz = zbin[1:] - zbin[:-1]\n",
    "zc = 0.5*(zbin[1:]+zbin[:-1])\n",
    "rc = np.array([cosmo.comovingDistance(0.,zz) for zz in zc])\n",
    "\n",
    "n0,e0 = np.histogram(data_unique[\"zmerge\"],bins=zbin)\n",
    "rate0 = n0/dz/vsim*4*np.pi*rc**2*c_Mpc_yr"
   ]
  },
  {
   "cell_type": "code",
   "execution_count": 91,
   "id": "7482aa3c-95eb-4f1c-b703-2b984c4ffab1",
   "metadata": {},
   "outputs": [
    {
     "data": {
      "text/plain": [
       "Text(0.5, 1.0, 'Merger Rate')"
      ]
     },
     "execution_count": 91,
     "metadata": {},
     "output_type": "execute_result"
    },
    {
     "data": {
      "image/png": "[encoded data removed]",
      "text/plain": [
       "<Figure size 504x360 with 1 Axes>"
      ]
     },
     "metadata": {
      "needs_background": "light"
     },
     "output_type": "display_data"
    }
   ],
   "source": [
    "fig, ax = plt.subplots(1, 1, figsize=(7,5))\n",
    "ax.plot(zc, rate0)\n",
    "ax.set(xlabel=\"redshift\", ylabel=r\"dN/dzdt [$yr^{-1}$]\", yscale=\"log\")\n",
    "# plt.yscale('log')\n",
    "ax.set_title(\"Merger Rate\")\n"
   ]
  },
  {
   "cell_type": "code",
   "execution_count": null,
   "id": "ec80eefc-95d4-471b-aa30-538137a5dd70",
   "metadata": {},
   "outputs": [],
   "source": []
  },
  {
   "cell_type": "code",
   "execution_count": null,
   "id": "dc09be09-e06e-4051-a3eb-fec8f2fd2ed3",
   "metadata": {},
   "outputs": [],
   "source": []
  },
  {
   "cell_type": "code",
   "execution_count": null,
   "id": "f6f406a9-e6cd-4c90-a5a1-4abb6562a77d",
   "metadata": {},
   "outputs": [],
   "source": []
  },
  {
   "cell_type": "code",
   "execution_count": null,
   "id": "33aba6b1-496c-41ab-96e1-48c7d515dcd3",
   "metadata": {},
   "outputs": [],
   "source": []
  },
  {
   "cell_type": "code",
   "execution_count": 37,
   "id": "e7277435-52dd-494b-997a-e8d839cbd963",
   "metadata": {},
   "outputs": [
    {
     "data": {
      "image/png": "[encoded data removed]",
      "text/plain": [
       "<Figure size 1584x381.6 with 4 Axes>"
      ]
     },
     "metadata": {
      "needs_background": "light"
     },
     "output_type": "display_data"
    }
   ],
   "source": [
    "import matplotlib as mpl\n",
    "cc3 = sns.cubehelix_palette(start=.5, rot=-.5, as_cmap=True)\n",
    "\n",
    "\n",
    "\n",
    "fig, ax = plt.subplots(1,4,figsize=(22,5.3), sharey=True)\n",
    "plt.subplots_adjust(wspace=0.05)\n",
    "ax = ax.flatten()\n",
    "\n",
    "\n",
    "ymin, ymax = 4.5, 10.5\n",
    "xmin, xmax = 6.5, 12.5\n",
    "\n",
    "\n",
    "xbins = np.logspace(xmin,xmax, 100)\n",
    "ybins = np.logspace(ymin,ymax, 100)\n",
    "ax[0].hist2d(data_unique['mstot'], data_unique['m1'], bins = [xbins, ybins], cmap=cc3,  cmin=1, norm=mpl.colors.LogNorm(vmin=50, vmax=8000))\n",
    "ax[0].set(xscale='log', yscale='log', xlabel=r'$M_{*}\\,[M_\\odot]$', ylabel=r'$M_{\\rm BH, 1}\\,[M_\\odot]$')\n",
    "\n",
    "\n",
    "ymin, ymax = 4.5, 10.5\n",
    "xmin, xmax = 4.5, 10.5\n",
    "\n",
    "xbins = np.logspace(xmin,xmax, 100)\n",
    "ybins = np.logspace(ymin,ymax, 100)\n",
    "\n",
    "ax[1].hist2d(data_unique['m1'], data_unique['m2'], bins = [xbins, ybins], cmap=cc3,  cmin=1, norm=mpl.colors.LogNorm(vmin=50, vmax=8000))\n",
    "ax[1].set(xscale='log', yscale='log', xlabel=r'$M_{\\rm 2}\\,[M_\\odot]$')\n",
    "\n",
    "\n",
    "ymin, ymax = 4.5, 10.5\n",
    "xmin, xmax = 1.2, 5\n",
    "\n",
    "xbins = np.linspace(xmin,xmax, 100)\n",
    "ybins = np.logspace(ymin,ymax, 100)\n",
    "\n",
    "ax[2].hist2d(data_unique['zmerge'], data_unique['m1'], bins = [xbins, ybins], cmap=cc3,  cmin=1, norm=mpl.colors.LogNorm(vmin=50, vmax=8000))\n",
    "ax[2].set(yscale='log', xlabel=r'$z_{\\rm merge}$')\n",
    "\n",
    "\n",
    "\n",
    "\n",
    "\n",
    "# ymin, ymax = 4.5, 10.5\n",
    "# xmin, xmax = 1.3, 10\n",
    "\n",
    "# xbins = np.linspace(xmin,xmax, 100)\n",
    "# ybins = np.logspace(ymin,ymax, 100)\n",
    "\n",
    "# ax[3].hist2d(mergers['zseed1'], mergers['m1'], bins = [xbins, ybins], cmap=cc3,  cmin=1, norm=mpl.colors.LogNorm(vmin=50, vmax=8000))\n",
    "# ax[3].set(xscale='log', yscale='log', xlabel=r'$M_{\\rm seed, 1}\\,[M_\\odot]$')\n",
    "\n",
    "\n",
    "\n",
    "plt.show()"
   ]
  },
  {
   "cell_type": "code",
   "execution_count": null,
   "id": "5866ac9e-86ba-4788-8398-c285cecee2e5",
   "metadata": {},
   "outputs": [],
   "source": []
  },
  {
   "cell_type": "code",
   "execution_count": null,
   "id": "d3a9fe50-79ab-4168-a746-40ba86b0d2f0",
   "metadata": {},
   "outputs": [],
   "source": []
  },
  {
   "cell_type": "code",
   "execution_count": null,
   "id": "ffedb335-cc55-45e9-8f09-ff2338e24151",
   "metadata": {},
   "outputs": [],
   "source": []
  },
  {
   "cell_type": "code",
   "execution_count": null,
   "id": "aea38e34-1517-44e4-bd76-95db9a634cd0",
   "metadata": {},
   "outputs": [],
   "source": [
    "mergers1 = np.load('/hildafs/datasets/Asterix/BH_details_bigfile/ASTRID-merger-catalog-z2.npy')\n",
    "mergers2 = np.load('/hildafs/datasets/Asterix/BH_details_bigfile2/mergers_below2/merger_cat_below2.npy')\n",
    "mergers = np.concatenate([mergers1, mergers2])\n",
    "print('total mergers:', len(mergers), flush=True)\n",
    "mergers.dtype"
   ]
  },
  {
   "cell_type": "code",
   "execution_count": null,
   "id": "0b3d7147-27e3-4447-bf7d-560741f23f88",
   "metadata": {},
   "outputs": [],
   "source": [
    "vsim = 250**3\n",
    "zbin = np.linspace(1.7,6,20)\n",
    "dz = zbin[1:] - zbin[:-1]\n",
    "zc = 0.5*(zbin[1:]+zbin[:-1])\n",
    "rc = np.array([cosmo.comovingDistance(0.,zz) for zz in zc])\n",
    "\n",
    "n0,e0 = np.histogram(np.concatenate([data2[\"zmerge\"], data1[\"zmerge\"]]),bins=zbin)\n",
    "\n",
    "rate0 = n0/dz/vsim*4*np.pi*rc**2*c_Mpc_yr\n",
    "\n"
   ]
  },
  {
   "cell_type": "code",
   "execution_count": 64,
   "id": "e9bedf3a-36fd-42dc-9a0b-f13a3fe5dd78",
   "metadata": {},
   "outputs": [
    {
     "data": {
      "text/plain": [
       "[<matplotlib.lines.Line2D at 0x15256a229640>]"
      ]
     },
     "execution_count": 64,
     "metadata": {},
     "output_type": "execute_result"
    },
    {
     "data": {
      "image/png": "[encoded data removed]",
      "text/plain": [
       "<Figure size 432x288 with 1 Axes>"
      ]
     },
     "metadata": {
      "needs_background": "light"
     },
     "output_type": "display_data"
    }
   ],
   "source": [
    "vsim = 250**3\n",
    "zbin = np.linspace(1.36,6,20)\n",
    "dz = zbin[1:] - zbin[:-1]\n",
    "zc = 0.5*(zbin[1:]+zbin[:-1])\n",
    "rc = np.array([cosmo.comovingDistance(0.,zz) for zz in zc])\n",
    "\n",
    "n0,e0 = np.histogram(np.concatenate([mergers['z']]),bins=zbin)\n",
    "\n",
    "rate0 = n0/dz/vsim*4*np.pi*rc**2*c_Mpc_yr\n",
    "\n",
    "plt.plot(zc, rate0)\n",
    "# plt.yscale('log')\n"
   ]
  },
  {
   "cell_type": "code",
   "execution_count": null,
   "id": "a75d5327-ee48-4991-82af-cdc6d66ed9ea",
   "metadata": {},
   "outputs": [],
   "source": []
  },
  {
   "cell_type": "code",
   "execution_count": null,
   "id": "be05d0f1-4f05-4e61-974c-52c2f7ccf2c8",
   "metadata": {},
   "outputs": [],
   "source": []
  }
 ],
 "metadata": {
  "kernelspec": {
   "display_name": "default",
   "language": "python",
   "name": "default"
  },
  "language_info": {
   "codemirror_mode": {
    "name": "ipython",
    "version": 3
   },
   "file_extension": ".py",
   "mimetype": "text/x-python",
   "name": "python",
   "nbconvert_exporter": "python",
   "pygments_lexer": "ipython3",
   "version": "3.8.12"
  }
 },
 "nbformat": 4,
 "nbformat_minor": 5
}
