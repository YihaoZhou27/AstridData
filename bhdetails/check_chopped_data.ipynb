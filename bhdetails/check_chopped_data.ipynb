{
 "cells": [
  {
   "cell_type": "code",
   "execution_count": 1,
   "id": "1313048c-46d1-45bb-99b4-511b4b591abb",
   "metadata": {},
   "outputs": [],
   "source": [
    "import numpy as np\n",
    "from bigfile import BigFile\n",
    "import struct\n",
    "import glob\n",
    "import os, sys"
   ]
  },
  {
   "cell_type": "code",
   "execution_count": 2,
   "id": "22037c43-bfe1-4235-9912-4e77df92aa4e",
   "metadata": {},
   "outputs": [
    {
     "name": "stdout",
     "output_type": "stream",
     "text": [
      "/jet/home/nianyic/scratch1/Astrid/bhdetails-chopped/BH-Details-R539-0\n",
      "zmin = 1.0240409484889215, zmax=1.024064589746041\n",
      "/jet/home/nianyic/scratch1/Astrid/bhdetails-chopped/BH-Details-R539-1\n",
      "zmin = 1.0229301208254329, zmax=1.0240402097040855\n",
      "/jet/home/nianyic/scratch1/Astrid/bhdetails-chopped/BH-Details-R539-2\n",
      "zmin = 1.0214184846503862, zmax=1.0229293824460548\n",
      "/jet/home/nianyic/scratch1/Astrid/bhdetails-chopped/BH-Details-R539-3\n",
      "zmin = 1.0199079780466982, zmax=1.0214177468227628\n",
      "/jet/home/nianyic/scratch1/Astrid/bhdetails-chopped/BH-Details-R539-4\n",
      "zmin = 1.018398600170296, zmax=1.0199072407704168\n",
      "/jet/home/nianyic/scratch1/Astrid/bhdetails-chopped/BH-Details-R539-5\n",
      "zmin = 1.0172687796085218, zmax=1.018397863444945\n"
     ]
    }
   ],
   "source": [
    "root = \"/jet/home/nianyic/scratch1/Astrid/bhdetails-chopped\"\n",
    "for i in range(6):\n",
    "    file = root + \"/BH-Details-R539-%d\"%i\n",
    "    print(file)\n",
    "    bf = BigFile(file)\n",
    "    zz = bf[\"z\"][:]\n",
    "    print(f\"zmin = {min(zz)}, zmax={max(zz)}\")"
   ]
  },
  {
   "cell_type": "code",
   "execution_count": 3,
   "id": "3bb613ac-76fb-4a23-b002-bd26e3f527ad",
   "metadata": {},
   "outputs": [
    {
     "name": "stdout",
     "output_type": "stream",
     "text": [
      "/jet/home/nianyic/scratch1/Astrid/bhdetails-chopped/BH-Details-R540-0\n",
      "zmin = 1.018766628098621, zmax=1.01877583886735\n",
      "/jet/home/nianyic/scratch1/Astrid/bhdetails-chopped/BH-Details-R540-1\n",
      "zmin = 1.0181864343823008, zmax=1.0187654767554846\n",
      "/jet/home/nianyic/scratch1/Astrid/bhdetails-chopped/BH-Details-R540-2\n",
      "zmin = 1.0169345211594116, zmax=1.018185858876099\n",
      "/jet/home/nianyic/scratch1/Astrid/bhdetails-chopped/BH-Details-R540-3\n",
      "zmin = 1.0152419922022298, zmax=1.0169339460102051\n",
      "/jet/home/nianyic/scratch1/Astrid/bhdetails-chopped/BH-Details-R540-4\n",
      "zmin = 1.0134038977022954, zmax=1.0152417048689273\n",
      "/jet/home/nianyic/scratch1/Astrid/bhdetails-chopped/BH-Details-R540-5\n",
      "zmin = 1.0114212122396715, zmax=1.0134027494176316\n"
     ]
    }
   ],
   "source": [
    "root = \"/jet/home/nianyic/scratch1/Astrid/bhdetails-chopped\"\n",
    "for i in range(6):\n",
    "    file = root + \"/BH-Details-R540-%d\"%i\n",
    "    print(file)\n",
    "    bf = BigFile(file)\n",
    "    zz = bf[\"z\"][:]\n",
    "    print(f\"zmin = {min(zz)}, zmax={max(zz)}\")"
   ]
  },
  {
   "cell_type": "code",
   "execution_count": null,
   "id": "b032ca19-252e-4fb9-9042-3d67084250a4",
   "metadata": {},
   "outputs": [],
   "source": []
  }
 ],
 "metadata": {
  "kernelspec": {
   "display_name": "default",
   "language": "python",
   "name": "default"
  },
  "language_info": {
   "codemirror_mode": {
    "name": "ipython",
    "version": 3
   },
   "file_extension": ".py",
   "mimetype": "text/x-python",
   "name": "python",
   "nbconvert_exporter": "python",
   "pygments_lexer": "ipython3",
   "version": "3.9.17"
  }
 },
 "nbformat": 4,
 "nbformat_minor": 5
}
