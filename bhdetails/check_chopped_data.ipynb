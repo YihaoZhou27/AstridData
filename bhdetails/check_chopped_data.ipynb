{
 "cells": [
  {
   "cell_type": "code",
   "execution_count": 1,
   "id": "1313048c-46d1-45bb-99b4-511b4b591abb",
   "metadata": {},
   "outputs": [],
   "source": [
    "import numpy as np\n",
    "from bigfile import BigFile\n",
    "import struct\n",
    "import glob\n",
    "import os, sys"
   ]
  },
  {
   "cell_type": "code",
   "execution_count": 2,
   "id": "22037c43-bfe1-4235-9912-4e77df92aa4e",
   "metadata": {},
   "outputs": [
    {
     "name": "stdout",
     "output_type": "stream",
     "text": [
      "/jet/home/nianyic/scratch1/Astrid/bhdetails-chopped/BH-Details-R539-0\n",
      "zmin = 1.0240409484889215, zmax=1.024064589746041\n",
      "/jet/home/nianyic/scratch1/Astrid/bhdetails-chopped/BH-Details-R539-1\n",
      "zmin = 1.0229301208254329, zmax=1.0240402097040855\n",
      "/jet/home/nianyic/scratch1/Astrid/bhdetails-chopped/BH-Details-R539-2\n",
      "zmin = 1.0214184846503862, zmax=1.0229293824460548\n",
      "/jet/home/nianyic/scratch1/Astrid/bhdetails-chopped/BH-Details-R539-3\n",
      "zmin = 1.0199079780466982, zmax=1.0214177468227628\n",
      "/jet/home/nianyic/scratch1/Astrid/bhdetails-chopped/BH-Details-R539-4\n",
      "zmin = 1.018398600170296, zmax=1.0199072407704168\n",
      "/jet/home/nianyic/scratch1/Astrid/bhdetails-chopped/BH-Details-R539-5\n",
      "zmin = 1.0172687796085218, zmax=1.018397863444945\n"
     ]
    }
   ],
   "source": [
    "root = \"/jet/home/nianyic/scratch1/Astrid/bhdetails-chopped\"\n",
    "for i in range(6):\n",
    "    file = root + \"/BH-Details-R539-%d\"%i\n",
    "    print(file)\n",
    "    bf = BigFile(file)\n",
    "    zz = bf[\"z\"][:]\n",
    "    print(f\"zmin = {min(zz)}, zmax={max(zz)}\")"
   ]
  },
  {
   "cell_type": "code",
   "execution_count": 1,
   "id": "3bb613ac-76fb-4a23-b002-bd26e3f527ad",
   "metadata": {},
   "outputs": [
    {
     "name": "stdout",
     "output_type": "stream",
     "text": [
      "/jet/home/nianyic/scratch1/Astrid/bhdetails-chopped/BH-Details-R540-0\n"
     ]
    },
    {
     "ename": "NameError",
     "evalue": "name 'BigFile' is not defined",
     "output_type": "error",
     "traceback": [
      "\u001b[0;31m---------------------------------------------------------------------------\u001b[0m",
      "\u001b[0;31mNameError\u001b[0m                                 Traceback (most recent call last)",
      "Cell \u001b[0;32mIn[1], line 5\u001b[0m\n\u001b[1;32m      3\u001b[0m file \u001b[38;5;241m=\u001b[39m root \u001b[38;5;241m+\u001b[39m \u001b[38;5;124m\"\u001b[39m\u001b[38;5;124m/BH-Details-R540-\u001b[39m\u001b[38;5;132;01m%d\u001b[39;00m\u001b[38;5;124m\"\u001b[39m\u001b[38;5;241m%\u001b[39mi\n\u001b[1;32m      4\u001b[0m \u001b[38;5;28mprint\u001b[39m(file)\n\u001b[0;32m----> 5\u001b[0m bf \u001b[38;5;241m=\u001b[39m \u001b[43mBigFile\u001b[49m(file)\n\u001b[1;32m      6\u001b[0m zz \u001b[38;5;241m=\u001b[39m bf[\u001b[38;5;124m\"\u001b[39m\u001b[38;5;124mz\u001b[39m\u001b[38;5;124m\"\u001b[39m][:]\n\u001b[1;32m      7\u001b[0m \u001b[38;5;28mprint\u001b[39m(\u001b[38;5;124mf\u001b[39m\u001b[38;5;124m\"\u001b[39m\u001b[38;5;124mzmin = \u001b[39m\u001b[38;5;132;01m{\u001b[39;00m\u001b[38;5;28mmin\u001b[39m(zz)\u001b[38;5;132;01m}\u001b[39;00m\u001b[38;5;124m, zmax=\u001b[39m\u001b[38;5;132;01m{\u001b[39;00m\u001b[38;5;28mmax\u001b[39m(zz)\u001b[38;5;132;01m}\u001b[39;00m\u001b[38;5;124m\"\u001b[39m)\n",
      "\u001b[0;31mNameError\u001b[0m: name 'BigFile' is not defined"
     ]
    }
   ],
   "source": [
    "root = \"/jet/home/nianyic/scratch1/Astrid/bhdetails-chopped\"\n",
    "for i in range(6):\n",
    "    file = root + \"/BH-Details-R540-%d\"%i\n",
    "    print(file)\n",
    "    bf = BigFile(file)\n",
    "    zz = bf[\"z\"][:]\n",
    "    print(f\"zmin = {min(zz)}, zmax={max(zz)}\")"
   ]
  },
  {
   "cell_type": "code",
   "execution_count": null,
   "id": "b032ca19-252e-4fb9-9042-3d67084250a4",
   "metadata": {},
   "outputs": [],
   "source": []
  }
 ],
 "metadata": {
  "kernelspec": {
   "display_name": "default",
   "language": "python",
   "name": "default"
  },
  "language_info": {
   "codemirror_mode": {
    "name": "ipython",
    "version": 3
   },
   "file_extension": ".py",
   "mimetype": "text/x-python",
   "name": "python",
   "nbconvert_exporter": "python",
   "pygments_lexer": "ipython3",
   "version": "3.9.17"
  }
 },
 "nbformat": 4,
 "nbformat_minor": 5
}
